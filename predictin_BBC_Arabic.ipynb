{
 "cells": [
  {
   "cell_type": "code",
   "execution_count": 134,
   "id": "a0bfbc5d",
   "metadata": {},
   "outputs": [],
   "source": [
    "EXPORT_MODEL =\"model.pkl\"\n",
    "TFidf =\"tfidf.pkl\"\n",
    "FILE_PATH =\"bbc-text.csv\"\n",
    "FSelection =\"FeatureSelection,pkl\""
   ]
  },
  {
   "cell_type": "code",
   "execution_count": 150,
   "id": "6c10f570",
   "metadata": {},
   "outputs": [
    {
     "name": "stdout",
     "output_type": "stream",
     "text": [
      "Collecting deep_translator\n",
      "  Using cached deep_translator-1.11.4-py3-none-any.whl (42 kB)\n",
      "Requirement already satisfied: beautifulsoup4<5.0.0,>=4.9.1 in c:\\users\\ms\\.ipython\\lib\\site-packages (from deep_translator) (4.10.0)\n",
      "Requirement already satisfied: requests<3.0.0,>=2.23.0 in c:\\users\\ms\\.ipython\\lib\\site-packages (from deep_translator) (2.27.1)\n",
      "Requirement already satisfied: soupsieve>1.2 in c:\\users\\ms\\.ipython\\lib\\site-packages (from beautifulsoup4<5.0.0,>=4.9.1->deep_translator) (2.3.1)\n",
      "Requirement already satisfied: certifi>=2017.4.17 in c:\\users\\ms\\.ipython\\lib\\site-packages (from requests<3.0.0,>=2.23.0->deep_translator) (2021.10.8)\n",
      "Requirement already satisfied: urllib3<1.27,>=1.21.1 in c:\\users\\ms\\.ipython\\lib\\site-packages (from requests<3.0.0,>=2.23.0->deep_translator) (1.26.9)\n",
      "Requirement already satisfied: idna<4,>=2.5 in c:\\users\\ms\\.ipython\\lib\\site-packages (from requests<3.0.0,>=2.23.0->deep_translator) (3.3)\n",
      "Requirement already satisfied: charset-normalizer~=2.0.0 in c:\\users\\ms\\.ipython\\lib\\site-packages (from requests<3.0.0,>=2.23.0->deep_translator) (2.0.4)\n",
      "Installing collected packages: deep-translator\n",
      "Successfully installed deep-translator-1.11.4\n"
     ]
    }
   ],
   "source": [
    "! pip install -U deep_translator"
   ]
  },
  {
   "cell_type": "code",
   "execution_count": 151,
   "id": "49487245",
   "metadata": {},
   "outputs": [],
   "source": [
    "import pickle\n",
    "import pandas as pd\n",
    "import numpy as np\n",
    "import re\n",
    "from deep_translator import GoogleTranslator"
   ]
  },
  {
   "cell_type": "code",
   "execution_count": 136,
   "id": "234f4dc2",
   "metadata": {},
   "outputs": [],
   "source": [
    "class preprocessing():\n",
    "    \n",
    "    def read_pickle(file_path):\n",
    "        with open(file_path, 'rb') as f:\n",
    "            data= pickle.load(f)\n",
    "        return data\n",
    "    \n",
    "    def read_csv(file_path):\n",
    "        data =pd.read_csv(file_path)\n",
    "        return data\n",
    "    \n",
    "    def cleaning_text(text): \n",
    "        cleantext=re.sub('http\\S+',' ', text)\n",
    "        cleantext = re.sub('RT|cc', ' ',cleantext)\n",
    "        cleantext=re.sub('#\\S+\\s',' ',cleantext)\n",
    "        cleantext = re.sub('@\\S+', '  ', cleantext)\n",
    "        cleantext = re.sub('[%s]' % re.escape(\"\"\"!\"#$%&'()*+,-./:;<=>?@[\\]^_`{|}~\"\"\"), ' ', cleantext)\n",
    "        cleantext = re.sub(r'[^\\x00-\\x7f]', ' ', cleantext) \n",
    "        cleantext = re.sub('\\s+', ' ', cleantext) \n",
    "    \n",
    "        return cleantext"
   ]
  },
  {
   "cell_type": "code",
   "execution_count": 137,
   "id": "e98bbdd6",
   "metadata": {},
   "outputs": [],
   "source": [
    "tfidf =preprocessing.read_pickle(TFidf)"
   ]
  },
  {
   "cell_type": "code",
   "execution_count": 138,
   "id": "6633ef0a",
   "metadata": {},
   "outputs": [],
   "source": [
    "model =preprocessing.read_pickle(EXPORT_MODEL)"
   ]
  },
  {
   "cell_type": "code",
   "execution_count": 139,
   "id": "9a12a176",
   "metadata": {},
   "outputs": [],
   "source": [
    "FeatureSelection =preprocessing.read_pickle(FSelection)"
   ]
  },
  {
   "cell_type": "code",
   "execution_count": 140,
   "id": "b5a764cb",
   "metadata": {},
   "outputs": [],
   "source": [
    "# Map category ID to category name\n",
    "category_mapping ={\n",
    "    0:'business',\n",
    "    1:'entertainment',\n",
    "    2:'politics',\n",
    "    3:'sport',\n",
    "    4:'tech',\n",
    "}"
   ]
  },
  {
   "cell_type": "code",
   "execution_count": 152,
   "id": "6e0aac98",
   "metadata": {},
   "outputs": [],
   "source": [
    "def prediction(text):\n",
    "    translate =GoogleTranslator(source='ar', target='en').translate(text)\n",
    "    cleaning =preprocessing.cleaning_text(translate)\n",
    "    # covert text using the trained TfidfVectorizer\n",
    "    input_features = tfidf.transform([cleaning])\n",
    "    FSelection =FeatureSelection.transform(input_features)\n",
    "    # Make the prediction using the loaded classifier\n",
    "    prediction_id = model.predict(FSelection)[0]\n",
    "        \n",
    "    category_name = category_mapping.get(prediction_id, \"Unknown\")    \n",
    "        \n",
    "    return category_name"
   ]
  },
  {
   "cell_type": "code",
   "execution_count": 153,
   "id": "986d2e88",
   "metadata": {},
   "outputs": [
    {
     "data": {
      "text/html": [
       "<div>\n",
       "<style scoped>\n",
       "    .dataframe tbody tr th:only-of-type {\n",
       "        vertical-align: middle;\n",
       "    }\n",
       "\n",
       "    .dataframe tbody tr th {\n",
       "        vertical-align: top;\n",
       "    }\n",
       "\n",
       "    .dataframe thead th {\n",
       "        text-align: right;\n",
       "    }\n",
       "</style>\n",
       "<table border=\"1\" class=\"dataframe\">\n",
       "  <thead>\n",
       "    <tr style=\"text-align: right;\">\n",
       "      <th></th>\n",
       "      <th>category</th>\n",
       "      <th>text</th>\n",
       "    </tr>\n",
       "  </thead>\n",
       "  <tbody>\n",
       "    <tr>\n",
       "      <th>0</th>\n",
       "      <td>tech</td>\n",
       "      <td>tv future in the hands of viewers with home th...</td>\n",
       "    </tr>\n",
       "    <tr>\n",
       "      <th>1</th>\n",
       "      <td>business</td>\n",
       "      <td>worldcom boss  left books alone  former worldc...</td>\n",
       "    </tr>\n",
       "    <tr>\n",
       "      <th>2</th>\n",
       "      <td>sport</td>\n",
       "      <td>tigers wary of farrell  gamble  leicester say ...</td>\n",
       "    </tr>\n",
       "    <tr>\n",
       "      <th>3</th>\n",
       "      <td>sport</td>\n",
       "      <td>yeading face newcastle in fa cup premiership s...</td>\n",
       "    </tr>\n",
       "    <tr>\n",
       "      <th>4</th>\n",
       "      <td>entertainment</td>\n",
       "      <td>ocean s twelve raids box office ocean s twelve...</td>\n",
       "    </tr>\n",
       "  </tbody>\n",
       "</table>\n",
       "</div>"
      ],
      "text/plain": [
       "        category                                               text\n",
       "0           tech  tv future in the hands of viewers with home th...\n",
       "1       business  worldcom boss  left books alone  former worldc...\n",
       "2          sport  tigers wary of farrell  gamble  leicester say ...\n",
       "3          sport  yeading face newcastle in fa cup premiership s...\n",
       "4  entertainment  ocean s twelve raids box office ocean s twelve..."
      ]
     },
     "execution_count": 153,
     "metadata": {},
     "output_type": "execute_result"
    }
   ],
   "source": [
    "data =preprocessing.read_csv(FILE_PATH)\n",
    "data.head()"
   ]
  },
  {
   "cell_type": "code",
   "execution_count": 157,
   "id": "4aecf515",
   "metadata": {},
   "outputs": [
    {
     "data": {
      "text/plain": [
       "'sport'"
      ]
     },
     "execution_count": 157,
     "metadata": {},
     "output_type": "execute_result"
    }
   ],
   "source": [
    "prediction(\"كره القدم هي افضل لعبه للشباب\")"
   ]
  },
  {
   "cell_type": "code",
   "execution_count": 158,
   "id": "8af7875e",
   "metadata": {},
   "outputs": [
    {
     "data": {
      "text/plain": [
       "'business'"
      ]
     },
     "execution_count": 158,
     "metadata": {},
     "output_type": "execute_result"
    }
   ],
   "source": [
    "prediction(\"شركه جوجل هي من اكثر الشركات المتفوقه في مجال الذكاء الاصطناعي\")"
   ]
  }
 ],
 "metadata": {
  "kernelspec": {
   "display_name": "Python 3 (ipykernel)",
   "language": "python",
   "name": "python3"
  },
  "language_info": {
   "codemirror_mode": {
    "name": "ipython",
    "version": 3
   },
   "file_extension": ".py",
   "mimetype": "text/x-python",
   "name": "python",
   "nbconvert_exporter": "python",
   "pygments_lexer": "ipython3",
   "version": "3.9.12"
  }
 },
 "nbformat": 4,
 "nbformat_minor": 5
}
